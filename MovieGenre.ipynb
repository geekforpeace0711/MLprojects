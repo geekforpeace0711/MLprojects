{
  "nbformat": 4,
  "nbformat_minor": 0,
  "metadata": {
    "colab": {
      "provenance": [],
      "authorship_tag": "ABX9TyOjlHRzGZKU9gO+j1wHQNtq",
      "include_colab_link": true
    },
    "kernelspec": {
      "name": "python3",
      "display_name": "Python 3"
    },
    "language_info": {
      "name": "python"
    }
  },
  "cells": [
    {
      "cell_type": "markdown",
      "metadata": {
        "id": "view-in-github",
        "colab_type": "text"
      },
      "source": [
        "<a href=\"https://colab.research.google.com/github/geekforpeace0711/MLprojects/blob/main/MovieGenre.ipynb\" target=\"_parent\"><img src=\"https://colab.research.google.com/assets/colab-badge.svg\" alt=\"Open In Colab\"/></a>"
      ]
    },
    {
      "cell_type": "code",
      "execution_count": null,
      "metadata": {
        "id": "gWUps01FNGk5"
      },
      "outputs": [],
      "source": [
        "import pandas as pnd\n",
        "import matplotlib.pyplot as plt\n",
        "import seaborn as sns\n",
        "import re\n",
        "import nltk\n",
        "import string\n",
        "from nltk.corpus import stopwords\n",
        "from nltk.stem import LancasterStemmer\n",
        "from sklearn.feature_extraction.text import TfidfVectorizer\n",
        "from sklearn.model_selection import train_test_split\n",
        "from sklearn.naive_bayes import MultinomialNB\n",
        "from sklearn.metrics import accuracy_score, classification_report\n"
      ]
    },
    {
      "cell_type": "markdown",
      "source": [],
      "metadata": {
        "id": "oWYUEUe_PDZ2"
      }
    },
    {
      "cell_type": "markdown",
      "source": [
        "LOADING TRAINING DATA"
      ],
      "metadata": {
        "id": "3SHnQzv4NVHj"
      }
    },
    {
      "cell_type": "code",
      "source": [
        "\n",
        "train_path = \"/train_data.txt\"\n",
        "train_data = pnd.read_csv(train_path, sep=':::', names=['Title', 'Genre', 'Description'], engine='python')\n"
      ],
      "metadata": {
        "id": "a0C0--y7NQ4G"
      },
      "execution_count": null,
      "outputs": []
    },
    {
      "cell_type": "markdown",
      "source": [
        "DISPLAY"
      ],
      "metadata": {
        "id": "xc-R_3JTPYE0"
      }
    },
    {
      "cell_type": "code",
      "source": [
        "print(train_data.describe())"
      ],
      "metadata": {
        "colab": {
          "base_uri": "https://localhost:8080/"
        },
        "id": "36DhYPGrPZwT",
        "outputId": "2a1bb280-de74-4051-b096-968f08706937"
      },
      "execution_count": null,
      "outputs": [
        {
          "output_type": "stream",
          "name": "stdout",
          "text": [
            "                                 Title    Genre  \\\n",
            "count                            54214    54214   \n",
            "unique                           54214       27   \n",
            "top      Oscar et la dame rose (2009)    drama    \n",
            "freq                                 1    13613   \n",
            "\n",
            "                                              Description  \n",
            "count                                               54214  \n",
            "unique                                              54086  \n",
            "top      Grammy - music award of the American academy ...  \n",
            "freq                                                   12  \n"
          ]
        }
      ]
    },
    {
      "cell_type": "code",
      "source": [
        "print(train_data.info())"
      ],
      "metadata": {
        "colab": {
          "base_uri": "https://localhost:8080/"
        },
        "id": "8F0vc2IePjqH",
        "outputId": "223d0092-53e3-4a38-de0c-d481829d17ca"
      },
      "execution_count": null,
      "outputs": [
        {
          "output_type": "stream",
          "name": "stdout",
          "text": [
            "<class 'pandas.core.frame.DataFrame'>\n",
            "Int64Index: 54214 entries, 1 to 54214\n",
            "Data columns (total 3 columns):\n",
            " #   Column       Non-Null Count  Dtype \n",
            "---  ------       --------------  ----- \n",
            " 0   Title        54214 non-null  object\n",
            " 1   Genre        54214 non-null  object\n",
            " 2   Description  54214 non-null  object\n",
            "dtypes: object(3)\n",
            "memory usage: 1.7+ MB\n",
            "None\n"
          ]
        }
      ]
    },
    {
      "cell_type": "markdown",
      "source": [
        "LOADING TEST DATA"
      ],
      "metadata": {
        "id": "rGvTWnXOP0F6"
      }
    },
    {
      "cell_type": "code",
      "source": [
        "test_path = \"/test_data.txt\"\n",
        "test_data = pd.read_csv(test_path, sep=':::', names=['Id', 'Title', 'Description'], engine='python')\n"
      ],
      "metadata": {
        "id": "dAP-f5QtP2bn"
      },
      "execution_count": null,
      "outputs": []
    },
    {
      "cell_type": "markdown",
      "source": [
        "DISPLAYING TOP 10"
      ],
      "metadata": {
        "id": "BFkY_NeRQbq5"
      }
    },
    {
      "cell_type": "code",
      "source": [
        "test_data.head(10)"
      ],
      "metadata": {
        "colab": {
          "base_uri": "https://localhost:8080/",
          "height": 363
        },
        "id": "qYculUdGQerg",
        "outputId": "1639658f-4d77-44c9-ec23-3e2f062ed8c5"
      },
      "execution_count": null,
      "outputs": [
        {
          "output_type": "execute_result",
          "data": {
            "text/plain": [
              "   Id                                         Title  \\\n",
              "0   1                         Edgar's Lunch (1998)    \n",
              "1   2                     La guerra de papá (1977)    \n",
              "2   3                  Off the Beaten Track (2010)    \n",
              "3   4                       Meu Amigo Hindu (2015)    \n",
              "4   5                            Er nu zhai (1955)    \n",
              "5   6                           Riddle Room (2016)    \n",
              "6   7                               L'amica (1969)    \n",
              "7   8                         Ina Mina Dika (1989)    \n",
              "8   9   Equinox Special: Britain's Tornados (2005)    \n",
              "9  10                                 Press (2011)    \n",
              "\n",
              "                                         Description  \n",
              "0   L.R. Brane loves his life - his car, his apar...  \n",
              "1   Spain, March 1964: Quico is a very naughty ch...  \n",
              "2   One year in the life of Albin and his family ...  \n",
              "3   His father has died, he hasn't spoken with hi...  \n",
              "4   Before he was known internationally as a mart...  \n",
              "5   Emily Burns is being held captive in a room w...  \n",
              "6   The beautiful but neglected wife of a brillia...  \n",
              "7   Vasu Inamdar (Ina) suffers from a disorder wh...  \n",
              "8   An insight into the tornados that hit Kensal ...  \n",
              "9   Press is a story of young people overwhelmed ...  "
            ],
            "text/html": [
              "\n",
              "  <div id=\"df-9e118539-c441-478c-8d1d-177ee270cc70\" class=\"colab-df-container\">\n",
              "    <div>\n",
              "<style scoped>\n",
              "    .dataframe tbody tr th:only-of-type {\n",
              "        vertical-align: middle;\n",
              "    }\n",
              "\n",
              "    .dataframe tbody tr th {\n",
              "        vertical-align: top;\n",
              "    }\n",
              "\n",
              "    .dataframe thead th {\n",
              "        text-align: right;\n",
              "    }\n",
              "</style>\n",
              "<table border=\"1\" class=\"dataframe\">\n",
              "  <thead>\n",
              "    <tr style=\"text-align: right;\">\n",
              "      <th></th>\n",
              "      <th>Id</th>\n",
              "      <th>Title</th>\n",
              "      <th>Description</th>\n",
              "    </tr>\n",
              "  </thead>\n",
              "  <tbody>\n",
              "    <tr>\n",
              "      <th>0</th>\n",
              "      <td>1</td>\n",
              "      <td>Edgar's Lunch (1998)</td>\n",
              "      <td>L.R. Brane loves his life - his car, his apar...</td>\n",
              "    </tr>\n",
              "    <tr>\n",
              "      <th>1</th>\n",
              "      <td>2</td>\n",
              "      <td>La guerra de papá (1977)</td>\n",
              "      <td>Spain, March 1964: Quico is a very naughty ch...</td>\n",
              "    </tr>\n",
              "    <tr>\n",
              "      <th>2</th>\n",
              "      <td>3</td>\n",
              "      <td>Off the Beaten Track (2010)</td>\n",
              "      <td>One year in the life of Albin and his family ...</td>\n",
              "    </tr>\n",
              "    <tr>\n",
              "      <th>3</th>\n",
              "      <td>4</td>\n",
              "      <td>Meu Amigo Hindu (2015)</td>\n",
              "      <td>His father has died, he hasn't spoken with hi...</td>\n",
              "    </tr>\n",
              "    <tr>\n",
              "      <th>4</th>\n",
              "      <td>5</td>\n",
              "      <td>Er nu zhai (1955)</td>\n",
              "      <td>Before he was known internationally as a mart...</td>\n",
              "    </tr>\n",
              "    <tr>\n",
              "      <th>5</th>\n",
              "      <td>6</td>\n",
              "      <td>Riddle Room (2016)</td>\n",
              "      <td>Emily Burns is being held captive in a room w...</td>\n",
              "    </tr>\n",
              "    <tr>\n",
              "      <th>6</th>\n",
              "      <td>7</td>\n",
              "      <td>L'amica (1969)</td>\n",
              "      <td>The beautiful but neglected wife of a brillia...</td>\n",
              "    </tr>\n",
              "    <tr>\n",
              "      <th>7</th>\n",
              "      <td>8</td>\n",
              "      <td>Ina Mina Dika (1989)</td>\n",
              "      <td>Vasu Inamdar (Ina) suffers from a disorder wh...</td>\n",
              "    </tr>\n",
              "    <tr>\n",
              "      <th>8</th>\n",
              "      <td>9</td>\n",
              "      <td>Equinox Special: Britain's Tornados (2005)</td>\n",
              "      <td>An insight into the tornados that hit Kensal ...</td>\n",
              "    </tr>\n",
              "    <tr>\n",
              "      <th>9</th>\n",
              "      <td>10</td>\n",
              "      <td>Press (2011)</td>\n",
              "      <td>Press is a story of young people overwhelmed ...</td>\n",
              "    </tr>\n",
              "  </tbody>\n",
              "</table>\n",
              "</div>\n",
              "    <div class=\"colab-df-buttons\">\n",
              "\n",
              "  <div class=\"colab-df-container\">\n",
              "    <button class=\"colab-df-convert\" onclick=\"convertToInteractive('df-9e118539-c441-478c-8d1d-177ee270cc70')\"\n",
              "            title=\"Convert this dataframe to an interactive table.\"\n",
              "            style=\"display:none;\">\n",
              "\n",
              "  <svg xmlns=\"http://www.w3.org/2000/svg\" height=\"24px\" viewBox=\"0 -960 960 960\">\n",
              "    <path d=\"M120-120v-720h720v720H120Zm60-500h600v-160H180v160Zm220 220h160v-160H400v160Zm0 220h160v-160H400v160ZM180-400h160v-160H180v160Zm440 0h160v-160H620v160ZM180-180h160v-160H180v160Zm440 0h160v-160H620v160Z\"/>\n",
              "  </svg>\n",
              "    </button>\n",
              "\n",
              "  <style>\n",
              "    .colab-df-container {\n",
              "      display:flex;\n",
              "      gap: 12px;\n",
              "    }\n",
              "\n",
              "    .colab-df-convert {\n",
              "      background-color: #E8F0FE;\n",
              "      border: none;\n",
              "      border-radius: 50%;\n",
              "      cursor: pointer;\n",
              "      display: none;\n",
              "      fill: #1967D2;\n",
              "      height: 32px;\n",
              "      padding: 0 0 0 0;\n",
              "      width: 32px;\n",
              "    }\n",
              "\n",
              "    .colab-df-convert:hover {\n",
              "      background-color: #E2EBFA;\n",
              "      box-shadow: 0px 1px 2px rgba(60, 64, 67, 0.3), 0px 1px 3px 1px rgba(60, 64, 67, 0.15);\n",
              "      fill: #174EA6;\n",
              "    }\n",
              "\n",
              "    .colab-df-buttons div {\n",
              "      margin-bottom: 4px;\n",
              "    }\n",
              "\n",
              "    [theme=dark] .colab-df-convert {\n",
              "      background-color: #3B4455;\n",
              "      fill: #D2E3FC;\n",
              "    }\n",
              "\n",
              "    [theme=dark] .colab-df-convert:hover {\n",
              "      background-color: #434B5C;\n",
              "      box-shadow: 0px 1px 3px 1px rgba(0, 0, 0, 0.15);\n",
              "      filter: drop-shadow(0px 1px 2px rgba(0, 0, 0, 0.3));\n",
              "      fill: #FFFFFF;\n",
              "    }\n",
              "  </style>\n",
              "\n",
              "    <script>\n",
              "      const buttonEl =\n",
              "        document.querySelector('#df-9e118539-c441-478c-8d1d-177ee270cc70 button.colab-df-convert');\n",
              "      buttonEl.style.display =\n",
              "        google.colab.kernel.accessAllowed ? 'block' : 'none';\n",
              "\n",
              "      async function convertToInteractive(key) {\n",
              "        const element = document.querySelector('#df-9e118539-c441-478c-8d1d-177ee270cc70');\n",
              "        const dataTable =\n",
              "          await google.colab.kernel.invokeFunction('convertToInteractive',\n",
              "                                                    [key], {});\n",
              "        if (!dataTable) return;\n",
              "\n",
              "        const docLinkHtml = 'Like what you see? Visit the ' +\n",
              "          '<a target=\"_blank\" href=https://colab.research.google.com/notebooks/data_table.ipynb>data table notebook</a>'\n",
              "          + ' to learn more about interactive tables.';\n",
              "        element.innerHTML = '';\n",
              "        dataTable['output_type'] = 'display_data';\n",
              "        await google.colab.output.renderOutput(dataTable, element);\n",
              "        const docLink = document.createElement('div');\n",
              "        docLink.innerHTML = docLinkHtml;\n",
              "        element.appendChild(docLink);\n",
              "      }\n",
              "    </script>\n",
              "  </div>\n",
              "\n",
              "\n",
              "<div id=\"df-1f3b3e19-144a-4c65-aebb-86217a99365f\">\n",
              "  <button class=\"colab-df-quickchart\" onclick=\"quickchart('df-1f3b3e19-144a-4c65-aebb-86217a99365f')\"\n",
              "            title=\"Suggest charts.\"\n",
              "            style=\"display:none;\">\n",
              "\n",
              "<svg xmlns=\"http://www.w3.org/2000/svg\" height=\"24px\"viewBox=\"0 0 24 24\"\n",
              "     width=\"24px\">\n",
              "    <g>\n",
              "        <path d=\"M19 3H5c-1.1 0-2 .9-2 2v14c0 1.1.9 2 2 2h14c1.1 0 2-.9 2-2V5c0-1.1-.9-2-2-2zM9 17H7v-7h2v7zm4 0h-2V7h2v10zm4 0h-2v-4h2v4z\"/>\n",
              "    </g>\n",
              "</svg>\n",
              "  </button>\n",
              "\n",
              "<style>\n",
              "  .colab-df-quickchart {\n",
              "      --bg-color: #E8F0FE;\n",
              "      --fill-color: #1967D2;\n",
              "      --hover-bg-color: #E2EBFA;\n",
              "      --hover-fill-color: #174EA6;\n",
              "      --disabled-fill-color: #AAA;\n",
              "      --disabled-bg-color: #DDD;\n",
              "  }\n",
              "\n",
              "  [theme=dark] .colab-df-quickchart {\n",
              "      --bg-color: #3B4455;\n",
              "      --fill-color: #D2E3FC;\n",
              "      --hover-bg-color: #434B5C;\n",
              "      --hover-fill-color: #FFFFFF;\n",
              "      --disabled-bg-color: #3B4455;\n",
              "      --disabled-fill-color: #666;\n",
              "  }\n",
              "\n",
              "  .colab-df-quickchart {\n",
              "    background-color: var(--bg-color);\n",
              "    border: none;\n",
              "    border-radius: 50%;\n",
              "    cursor: pointer;\n",
              "    display: none;\n",
              "    fill: var(--fill-color);\n",
              "    height: 32px;\n",
              "    padding: 0;\n",
              "    width: 32px;\n",
              "  }\n",
              "\n",
              "  .colab-df-quickchart:hover {\n",
              "    background-color: var(--hover-bg-color);\n",
              "    box-shadow: 0 1px 2px rgba(60, 64, 67, 0.3), 0 1px 3px 1px rgba(60, 64, 67, 0.15);\n",
              "    fill: var(--button-hover-fill-color);\n",
              "  }\n",
              "\n",
              "  .colab-df-quickchart-complete:disabled,\n",
              "  .colab-df-quickchart-complete:disabled:hover {\n",
              "    background-color: var(--disabled-bg-color);\n",
              "    fill: var(--disabled-fill-color);\n",
              "    box-shadow: none;\n",
              "  }\n",
              "\n",
              "  .colab-df-spinner {\n",
              "    border: 2px solid var(--fill-color);\n",
              "    border-color: transparent;\n",
              "    border-bottom-color: var(--fill-color);\n",
              "    animation:\n",
              "      spin 1s steps(1) infinite;\n",
              "  }\n",
              "\n",
              "  @keyframes spin {\n",
              "    0% {\n",
              "      border-color: transparent;\n",
              "      border-bottom-color: var(--fill-color);\n",
              "      border-left-color: var(--fill-color);\n",
              "    }\n",
              "    20% {\n",
              "      border-color: transparent;\n",
              "      border-left-color: var(--fill-color);\n",
              "      border-top-color: var(--fill-color);\n",
              "    }\n",
              "    30% {\n",
              "      border-color: transparent;\n",
              "      border-left-color: var(--fill-color);\n",
              "      border-top-color: var(--fill-color);\n",
              "      border-right-color: var(--fill-color);\n",
              "    }\n",
              "    40% {\n",
              "      border-color: transparent;\n",
              "      border-right-color: var(--fill-color);\n",
              "      border-top-color: var(--fill-color);\n",
              "    }\n",
              "    60% {\n",
              "      border-color: transparent;\n",
              "      border-right-color: var(--fill-color);\n",
              "    }\n",
              "    80% {\n",
              "      border-color: transparent;\n",
              "      border-right-color: var(--fill-color);\n",
              "      border-bottom-color: var(--fill-color);\n",
              "    }\n",
              "    90% {\n",
              "      border-color: transparent;\n",
              "      border-bottom-color: var(--fill-color);\n",
              "    }\n",
              "  }\n",
              "</style>\n",
              "\n",
              "  <script>\n",
              "    async function quickchart(key) {\n",
              "      const quickchartButtonEl =\n",
              "        document.querySelector('#' + key + ' button');\n",
              "      quickchartButtonEl.disabled = true;  // To prevent multiple clicks.\n",
              "      quickchartButtonEl.classList.add('colab-df-spinner');\n",
              "      try {\n",
              "        const charts = await google.colab.kernel.invokeFunction(\n",
              "            'suggestCharts', [key], {});\n",
              "      } catch (error) {\n",
              "        console.error('Error during call to suggestCharts:', error);\n",
              "      }\n",
              "      quickchartButtonEl.classList.remove('colab-df-spinner');\n",
              "      quickchartButtonEl.classList.add('colab-df-quickchart-complete');\n",
              "    }\n",
              "    (() => {\n",
              "      let quickchartButtonEl =\n",
              "        document.querySelector('#df-1f3b3e19-144a-4c65-aebb-86217a99365f button');\n",
              "      quickchartButtonEl.style.display =\n",
              "        google.colab.kernel.accessAllowed ? 'block' : 'none';\n",
              "    })();\n",
              "  </script>\n",
              "</div>\n",
              "    </div>\n",
              "  </div>\n"
            ]
          },
          "metadata": {},
          "execution_count": 38
        }
      ]
    },
    {
      "cell_type": "markdown",
      "source": [
        "EXPLORATORY DATA ANALYSIS using **SEABORN** and **MATPLOT**"
      ],
      "metadata": {
        "id": "JkaAei5LUnbr"
      }
    },
    {
      "cell_type": "code",
      "source": [
        "plt.figure(figsize=(18,9))\n",
        "sns.countplot(data=train_data, y='Genre', order=train_data['Genre'].value_counts().index, palette='CMRmap')\n",
        "plt.xlabel('COUNT', fontsize=16, fontweight='bold')\n",
        "plt.ylabel('GENRE', fontsize=16, fontweight='bold')\n",
        "plt.title('Distribution of Genres', fontsize=20, fontweight='bold')"
      ],
      "metadata": {
        "colab": {
          "base_uri": "https://localhost:8080/",
          "height": 847
        },
        "id": "izmenW19Q-Cx",
        "outputId": "cf9c5b66-af29-4d98-964c-d9d55cca930e"
      },
      "execution_count": null,
      "outputs": [
        {
          "output_type": "execute_result",
          "data": {
            "text/plain": [
              "Text(0.5, 1.0, 'Distribution of Genres')"
            ]
          },
          "metadata": {},
          "execution_count": 61
        },
        {
          "output_type": "display_data",
          "data": {
            "text/plain": [
              "<Figure size 1800x900 with 1 Axes>"
            ],
            "image/png": "[encoded data removed]"
          },
          "metadata": {}
        }
      ]
    },
    {
      "cell_type": "markdown",
      "source": [
        "DATA PREPROCESSING\n"
      ],
      "metadata": {
        "id": "XmjRExqUVTQT"
      }
    },
    {
      "cell_type": "code",
      "source": [
        "stemmer=LancasterStemmer()\n",
        "nltk.download(\"popular\")\n",
        "stop_words = set(stopwords.words('english'))\n",
        "\n"
      ],
      "metadata": {
        "colab": {
          "base_uri": "https://localhost:8080/"
        },
        "id": "G8eQU0zOXf4p",
        "outputId": "2fecf8b9-4b92-4747-fde7-46c08d000c39"
      },
      "execution_count": null,
      "outputs": [
        {
          "output_type": "stream",
          "name": "stderr",
          "text": [
            "[nltk_data] Downloading collection 'popular'\n",
            "[nltk_data]    | \n",
            "[nltk_data]    | Downloading package cmudict to /root/nltk_data...\n",
            "[nltk_data]    |   Package cmudict is already up-to-date!\n",
            "[nltk_data]    | Downloading package gazetteers to /root/nltk_data...\n",
            "[nltk_data]    |   Package gazetteers is already up-to-date!\n",
            "[nltk_data]    | Downloading package genesis to /root/nltk_data...\n",
            "[nltk_data]    |   Package genesis is already up-to-date!\n",
            "[nltk_data]    | Downloading package gutenberg to /root/nltk_data...\n",
            "[nltk_data]    |   Package gutenberg is already up-to-date!\n",
            "[nltk_data]    | Downloading package inaugural to /root/nltk_data...\n",
            "[nltk_data]    |   Package inaugural is already up-to-date!\n",
            "[nltk_data]    | Downloading package movie_reviews to\n",
            "[nltk_data]    |     /root/nltk_data...\n",
            "[nltk_data]    |   Package movie_reviews is already up-to-date!\n",
            "[nltk_data]    | Downloading package names to /root/nltk_data...\n",
            "[nltk_data]    |   Package names is already up-to-date!\n",
            "[nltk_data]    | Downloading package shakespeare to /root/nltk_data...\n",
            "[nltk_data]    |   Package shakespeare is already up-to-date!\n",
            "[nltk_data]    | Downloading package stopwords to /root/nltk_data...\n",
            "[nltk_data]    |   Package stopwords is already up-to-date!\n",
            "[nltk_data]    | Downloading package treebank to /root/nltk_data...\n",
            "[nltk_data]    |   Package treebank is already up-to-date!\n",
            "[nltk_data]    | Downloading package twitter_samples to\n",
            "[nltk_data]    |     /root/nltk_data...\n",
            "[nltk_data]    |   Package twitter_samples is already up-to-date!\n",
            "[nltk_data]    | Downloading package omw to /root/nltk_data...\n",
            "[nltk_data]    |   Package omw is already up-to-date!\n",
            "[nltk_data]    | Downloading package omw-1.4 to /root/nltk_data...\n",
            "[nltk_data]    |   Package omw-1.4 is already up-to-date!\n",
            "[nltk_data]    | Downloading package wordnet to /root/nltk_data...\n",
            "[nltk_data]    |   Package wordnet is already up-to-date!\n",
            "[nltk_data]    | Downloading package wordnet2021 to /root/nltk_data...\n",
            "[nltk_data]    |   Package wordnet2021 is already up-to-date!\n",
            "[nltk_data]    | Downloading package wordnet31 to /root/nltk_data...\n",
            "[nltk_data]    |   Package wordnet31 is already up-to-date!\n",
            "[nltk_data]    | Downloading package wordnet_ic to /root/nltk_data...\n",
            "[nltk_data]    |   Package wordnet_ic is already up-to-date!\n",
            "[nltk_data]    | Downloading package words to /root/nltk_data...\n",
            "[nltk_data]    |   Package words is already up-to-date!\n",
            "[nltk_data]    | Downloading package maxent_ne_chunker to\n",
            "[nltk_data]    |     /root/nltk_data...\n",
            "[nltk_data]    |   Package maxent_ne_chunker is already up-to-date!\n",
            "[nltk_data]    | Downloading package punkt to /root/nltk_data...\n",
            "[nltk_data]    |   Package punkt is already up-to-date!\n",
            "[nltk_data]    | Downloading package snowball_data to\n",
            "[nltk_data]    |     /root/nltk_data...\n",
            "[nltk_data]    |   Package snowball_data is already up-to-date!\n",
            "[nltk_data]    | Downloading package averaged_perceptron_tagger to\n",
            "[nltk_data]    |     /root/nltk_data...\n",
            "[nltk_data]    |   Package averaged_perceptron_tagger is already up-\n",
            "[nltk_data]    |       to-date!\n",
            "[nltk_data]    | \n",
            "[nltk_data]  Done downloading collection popular\n"
          ]
        }
      ]
    },
    {
      "cell_type": "markdown",
      "source": [
        "TEXT CLEANING"
      ],
      "metadata": {
        "id": "6d2xKWMmXqpa"
      }
    },
    {
      "cell_type": "code",
      "source": [
        "def clean_text(text):\n",
        "\n",
        "    text=text.lower()\n",
        "    text= re.sub(r'@\\S+', '', text)  # Remove Twitter handles\n",
        "    text= re.sub(r'http\\S+', '', text)  # Remove URLs\n",
        "    text = re.sub(r'pic.\\S+', '', text)\n",
        "    text = re.sub(r\"[^a-zA-Z+']\", ' ', text)  # Keep only characters\n",
        "    text = re.sub(r'\\s+[a-zA-Z]\\s+', ' ', text + ' ')\n",
        "    text = \"\".join([i for i in text if i not in string.punctuation])\n",
        "    words = nltk.word_tokenize(text)\n",
        "    stopwords = nltk.corpus.stopwords.words('english')\n",
        "    text = \" \".join([i for i in words if i not in stopwords and len(i) > 2])\n",
        "    text = re.sub(\"\\s[\\s]+\", \" \", text).strip()\n",
        "    return text"
      ],
      "metadata": {
        "id": "NpK50yZAXvyW"
      },
      "execution_count": null,
      "outputs": []
    },
    {
      "cell_type": "markdown",
      "source": [
        "IMPLEMENTING TEXT CLEANING TO TRAIN AND TEST DATA"
      ],
      "metadata": {
        "id": "CB-rIb1UaeZ9"
      }
    },
    {
      "cell_type": "code",
      "source": [
        "train_data['Text_cleaning'] = train_data['Description'].apply(clean_text)\n",
        "test_data['Text_cleaning'] = test_data['Description'].apply(clean_text)"
      ],
      "metadata": {
        "id": "BGd-NSWWZehN"
      },
      "execution_count": null,
      "outputs": []
    },
    {
      "cell_type": "markdown",
      "source": [
        "TEXT VECTORIZATION USING TF-IDF"
      ],
      "metadata": {
        "id": "7OZmv0QEaigT"
      }
    },
    {
      "cell_type": "code",
      "source": [
        "tfidf_vectorizer = TfidfVectorizer() #initializing the vectorizer\n",
        "X_train = tfidf_vectorizer.fit_transform(train_data['Text_cleaning'])  # Transform the training data\n",
        "X_test = tfidf_vectorizer.transform(test_data['Text_cleaning'])  # Transform the testing data\n"
      ],
      "metadata": {
        "id": "1O5-LSxMa7Cz"
      },
      "execution_count": null,
      "outputs": []
    },
    {
      "cell_type": "code",
      "source": [
        "# Initialize and train a Multinomial Naive Bayes classifier\n",
        "classifier = MultinomialNB()\n",
        "classifier.fit(X_train, y_train)\n",
        "\n",
        "# Make predictions on the validation set\n",
        "y_pred = classifier.predict(X_val)\n",
        "\n",
        "# Evaluate the performance of the model\n",
        "accuracy = accuracy_score(y_val, y_pred)\n",
        "print(\"Validation Accuracy:\", accuracy)\n",
        "print(classification_report(y_val, y_pred))\n"
      ],
      "metadata": {
        "colab": {
          "base_uri": "https://localhost:8080/"
        },
        "id": "9LFwSEGiblt4",
        "outputId": "6a2d7f44-9149-4b7a-ed83-553b13e560f2"
      },
      "execution_count": null,
      "outputs": [
        {
          "output_type": "stream",
          "name": "stdout",
          "text": [
            "Validation Accuracy: 0.44526422576777647\n"
          ]
        },
        {
          "output_type": "stream",
          "name": "stderr",
          "text": [
            "/usr/local/lib/python3.10/dist-packages/sklearn/metrics/_classification.py:1344: UndefinedMetricWarning: Precision and F-score are ill-defined and being set to 0.0 in labels with no predicted samples. Use `zero_division` parameter to control this behavior.\n",
            "  _warn_prf(average, modifier, msg_start, len(result))\n",
            "/usr/local/lib/python3.10/dist-packages/sklearn/metrics/_classification.py:1344: UndefinedMetricWarning: Precision and F-score are ill-defined and being set to 0.0 in labels with no predicted samples. Use `zero_division` parameter to control this behavior.\n",
            "  _warn_prf(average, modifier, msg_start, len(result))\n"
          ]
        },
        {
          "output_type": "stream",
          "name": "stdout",
          "text": [
            "               precision    recall  f1-score   support\n",
            "\n",
            "      action        0.00      0.00      0.00       263\n",
            "       adult        0.00      0.00      0.00       112\n",
            "   adventure        0.00      0.00      0.00       139\n",
            "   animation        0.00      0.00      0.00       104\n",
            "   biography        0.00      0.00      0.00        61\n",
            "      comedy        0.61      0.04      0.07      1443\n",
            "       crime        0.00      0.00      0.00       107\n",
            " documentary        0.54      0.90      0.67      2659\n",
            "       drama        0.38      0.88      0.53      2697\n",
            "      family        0.00      0.00      0.00       150\n",
            "     fantasy        0.00      0.00      0.00        74\n",
            "   game-show        0.00      0.00      0.00        40\n",
            "     history        0.00      0.00      0.00        45\n",
            "      horror        0.00      0.00      0.00       431\n",
            "       music        0.00      0.00      0.00       144\n",
            "     musical        0.00      0.00      0.00        50\n",
            "     mystery        0.00      0.00      0.00        56\n",
            "        news        0.00      0.00      0.00        34\n",
            "  reality-tv        0.00      0.00      0.00       192\n",
            "     romance        0.00      0.00      0.00       151\n",
            "      sci-fi        0.00      0.00      0.00       143\n",
            "       short        0.50      0.00      0.00      1045\n",
            "       sport        0.00      0.00      0.00        93\n",
            "   talk-show        0.00      0.00      0.00        81\n",
            "    thriller        0.00      0.00      0.00       309\n",
            "         war        0.00      0.00      0.00        20\n",
            "     western        0.00      0.00      0.00       200\n",
            "\n",
            "     accuracy                           0.45     10843\n",
            "    macro avg       0.08      0.07      0.05     10843\n",
            " weighted avg       0.36      0.45      0.31     10843\n",
            "\n"
          ]
        },
        {
          "output_type": "stream",
          "name": "stderr",
          "text": [
            "/usr/local/lib/python3.10/dist-packages/sklearn/metrics/_classification.py:1344: UndefinedMetricWarning: Precision and F-score are ill-defined and being set to 0.0 in labels with no predicted samples. Use `zero_division` parameter to control this behavior.\n",
            "  _warn_prf(average, modifier, msg_start, len(result))\n"
          ]
        }
      ]
    },
    {
      "cell_type": "code",
      "source": [
        "X_test_predictions = classifier.predict(X_test)\n",
        "test_data['Predicted_Genre'] = X_test_predictions"
      ],
      "metadata": {
        "id": "AT7WkYaBdSHR"
      },
      "execution_count": null,
      "outputs": []
    },
    {
      "cell_type": "code",
      "source": [
        "# Save the test_data DataFrame with predicted genres to a CSV file\n",
        "test_data.to_csv('predicted_genres.csv', index=False)\n",
        "\n",
        "# Display the 'test_data' DataFrame with predicted genres\n",
        "print(test_data)"
      ],
      "metadata": {
        "colab": {
          "base_uri": "https://localhost:8080/"
        },
        "id": "x3uW5hC7deJk",
        "outputId": "0cff6c23-8a0b-4e1e-be0b-b2bf01640e2b"
      },
      "execution_count": null,
      "outputs": [
        {
          "output_type": "stream",
          "name": "stdout",
          "text": [
            "          Id                             Title  \\\n",
            "0          1             Edgar's Lunch (1998)    \n",
            "1          2         La guerra de papá (1977)    \n",
            "2          3      Off the Beaten Track (2010)    \n",
            "3          4           Meu Amigo Hindu (2015)    \n",
            "4          5                Er nu zhai (1955)    \n",
            "...      ...                               ...   \n",
            "54195  54196   \"Tales of Light & Dark\" (2013)    \n",
            "54196  54197      Der letzte Mohikaner (1965)    \n",
            "54197  54198              Oliver Twink (2007)    \n",
            "54198  54199                Slipstream (1973)    \n",
            "54199  54200        Curitiba Zero Grau (2010)    \n",
            "\n",
            "                                             Description  \\\n",
            "0       L.R. Brane loves his life - his car, his apar...   \n",
            "1       Spain, March 1964: Quico is a very naughty ch...   \n",
            "2       One year in the life of Albin and his family ...   \n",
            "3       His father has died, he hasn't spoken with hi...   \n",
            "4       Before he was known internationally as a mart...   \n",
            "...                                                  ...   \n",
            "54195   Covering multiple genres, Tales of Light & Da...   \n",
            "54196   As Alice and Cora Munro attempt to find their...   \n",
            "54197   A movie 169 years in the making. Oliver Twist...   \n",
            "54198   Popular, but mysterious rock D.J Mike Mallard...   \n",
            "54199   Curitiba is a city in movement, with rhythms ...   \n",
            "\n",
            "                                           Text_cleaning Predicted_Genre  \n",
            "0      brane loves life car apartment job especially ...          drama   \n",
            "1      spain march quico naughty child three belongin...          drama   \n",
            "2      one year life albin family shepherds north tra...    documentary   \n",
            "3      father died hasnt spoken brother years serious...          drama   \n",
            "4      known internationally martial arts superstar b...          drama   \n",
            "...                                                  ...             ...  \n",
            "54195  covering multiple genres tales light dark anth...          drama   \n",
            "54196  alice cora munro attempt find father british o...          drama   \n",
            "54197  movie years making oliver twist artful dodger ...          drama   \n",
            "54198  popular mysterious rock mike mallard askew bro...          drama   \n",
            "54199  curitiba city movement rhythms different pulsa...    documentary   \n",
            "\n",
            "[54200 rows x 5 columns]\n"
          ]
        }
      ]
    },
    {
      "cell_type": "code",
      "source": [
        "from google.colab import drive\n",
        "drive.mount('/content/drive')"
      ],
      "metadata": {
        "id": "8cD0RDMLd33a"
      },
      "execution_count": null,
      "outputs": []
    }
  ]
}